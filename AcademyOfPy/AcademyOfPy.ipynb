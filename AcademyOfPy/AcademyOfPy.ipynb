{
 "cells": [
  {
   "cell_type": "code",
   "execution_count": 34,
   "metadata": {},
   "outputs": [
    {
     "data": {
      "text/plain": [
       "'English_United States.1252'"
      ]
     },
     "execution_count": 34,
     "metadata": {},
     "output_type": "execute_result"
    }
   ],
   "source": [
    "import pandas as pd\n",
    "import numpy as np\n",
    "import locale\n",
    "\n",
    "locale.setlocale(locale.LC_ALL, 'English_United States.1252')\n"
   ]
  },
  {
   "cell_type": "code",
   "execution_count": 6,
   "metadata": {},
   "outputs": [],
   "source": [
    "file_school_data = \"Resources/schools_complete.csv\"\n",
    "file_student_data = \"Resources/students_complete.csv\"\n",
    "\n",
    "# Read School and Student Data File and store into Pandas Data Frames\n",
    "school_data = pd.read_csv(file_school_data)\n",
    "student_data = pd.read_csv(file_student_data)\n",
    "\n",
    "# Combine the data into a single dataset\n",
    "combined_df = pd.merge(student_data, school_data, how=\"left\", on=[\"school_name\", \"school_name\"])"
   ]
  },
  {
   "cell_type": "code",
   "execution_count": 104,
   "metadata": {},
   "outputs": [
    {
     "name": "stdout",
     "output_type": "stream",
     "text": [
      "Number of schools: 15\n",
      "39170\n",
      "78.99\n",
      "81.88\n",
      "Next\n"
     ]
    },
    {
     "data": {
      "text/plain": [
       "'82.97%'"
      ]
     },
     "execution_count": 104,
     "metadata": {},
     "output_type": "execute_result"
    }
   ],
   "source": [
    "school_data.head()\n",
    "#print(student_data.head())\n",
    "#combined_df.head()\n",
    "\n",
    "#number of schools\n",
    "print(f\"Number of schools: {combined_df['School ID'].nunique()}\")\n",
    "\n",
    "\n",
    "#number of students\n",
    "print(combined_df[\"Student ID\"].nunique())\n",
    "       \n",
    "#total budget\n",
    "locale.currency(school_data[\"budget\"].sum(),grouping = True)\n",
    "\n",
    "#average math score\n",
    "print(\"{0:.2f}\".format(combined_df[\"math_score\"].mean()))\n",
    "    \n",
    "#average reading score\n",
    "print(\"{0:.2f}\".format(combined_df[\"reading_score\"].mean()))\n",
    "combined_df.head()\n",
    "print(\"Next\")      \n",
    "#% passing math\n",
    "\"{0:.2%}\".format(combined_df[combined_df[\"math_score\"] > 70][\"Student ID\"].nunique()/combined_df[\"Student ID\"].nunique())\n",
    "      \n",
    "#%passing reading\n",
    "\"{0:.2%}\".format(combined_df[combined_df[\"reading_score\"] > 70][\"Student ID\"].nunique()/combined_df[\"Student ID\"].nunique())\n",
    "\n",
    "\n"
   ]
  },
  {
   "cell_type": "code",
   "execution_count": 99,
   "metadata": {},
   "outputs": [
    {
     "data": {
      "text/plain": [
       "'78.99'"
      ]
     },
     "execution_count": 99,
     "metadata": {},
     "output_type": "execute_result"
    }
   ],
   "source": [
    "\"{0:.2f}\".format(combined_df[\"math_score\"].mean())"
   ]
  }
 ],
 "metadata": {
  "kernelspec": {
   "display_name": "Python 3",
   "language": "python",
   "name": "python3"
  },
  "language_info": {
   "codemirror_mode": {
    "name": "ipython",
    "version": 3
   },
   "file_extension": ".py",
   "mimetype": "text/x-python",
   "name": "python",
   "nbconvert_exporter": "python",
   "pygments_lexer": "ipython3",
   "version": "3.7.1"
  }
 },
 "nbformat": 4,
 "nbformat_minor": 2
}
